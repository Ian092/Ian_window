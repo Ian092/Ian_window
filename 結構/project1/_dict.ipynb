{
 "cells": [
  {
   "cell_type": "code",
   "execution_count": 4,
   "metadata": {},
   "outputs": [
    {
     "name": "stdout",
     "output_type": "stream",
     "text": [
      "3\n",
      "<class 'dict'>\n"
     ]
    }
   ],
   "source": [
    "#建立dict\n",
    "d1:dict = {\"one\":1,\n",
    "           \"two\":2,\n",
    "           \"three\":3}\n",
    "\n",
    "print(len(d1))\n",
    "print(type(d1))"
   ]
  },
  {
   "cell_type": "code",
   "execution_count": 5,
   "metadata": {},
   "outputs": [
    {
     "name": "stdout",
     "output_type": "stream",
     "text": [
      "1\n",
      "2\n",
      "3\n"
     ]
    }
   ],
   "source": [
    "#subcript[key]\n",
    "print(d1[\"one\"])\n",
    "print(d1[\"two\"])\n",
    "print(d1[\"three\"])\n"
   ]
  },
  {
   "cell_type": "code",
   "execution_count": 6,
   "metadata": {},
   "outputs": [
    {
     "name": "stdout",
     "output_type": "stream",
     "text": [
      "key=one\n",
      "value=1\n",
      "===========\n",
      "key=two\n",
      "value=2\n",
      "===========\n",
      "key=three\n",
      "value=3\n",
      "===========\n"
     ]
    }
   ],
   "source": [
    "#整合for in迴圈\n",
    "for key in d1:\n",
    "    print(f\"key={key}\")\n",
    "    print(f\"value={d1[key]}\")\n",
    "    print(\"===========\")"
   ]
  }
 ],
 "metadata": {
  "kernelspec": {
   "display_name": "venv1",
   "language": "python",
   "name": "python3"
  },
  "language_info": {
   "codemirror_mode": {
    "name": "ipython",
    "version": 3
   },
   "file_extension": ".py",
   "mimetype": "text/x-python",
   "name": "python",
   "nbconvert_exporter": "python",
   "pygments_lexer": "ipython3",
   "version": "3.10.14"
  }
 },
 "nbformat": 4,
 "nbformat_minor": 2
}
