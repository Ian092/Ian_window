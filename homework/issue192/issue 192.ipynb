{
 "cells": [
  {
   "cell_type": "code",
   "execution_count": 2,
   "metadata": {},
   "outputs": [],
   "source": [
    "import requests\n",
    "from  requests import JSONDecodeError\n",
    "from pprint import pprint\n",
    "def download_json():\n",
    "    aqi_url = '\thttps://tcgbusfs.blob.core.windows.net/dotapp/youbike/v2/youbike_immediate.json'\n",
    "    try:\n",
    "        response = requests.get(aqi_url)\n",
    "    except Exception:\n",
    "        raise Exception(\"連線失敗\")\n",
    "    else:\n",
    "        if response.status_code == 200:\n",
    "            try:\n",
    "                all_data:list[any] = response.json()\n",
    "                return all_data\n",
    "            except JSONDecodeError:\n",
    "                raise Exception(\"api_key為測試用,連線已至上限,請稍後再試\")\n",
    "        else:\n",
    "            raise Exception(\"下載狀態碼不是200\")"
   ]
  },
  {
   "cell_type": "code",
   "execution_count": 3,
   "metadata": {},
   "outputs": [
    {
     "name": "stdout",
     "output_type": "stream",
     "text": [
      "{'act': '1',\n",
      " 'ar': '復興南路二段235號前',\n",
      " 'aren': 'No.235， Sec. 2， Fuxing S. Rd.',\n",
      " 'available_rent_bikes': 3,\n",
      " 'available_return_bikes': 25,\n",
      " 'infoDate': '2024-06-05',\n",
      " 'infoTime': '2024-06-05 10:13:20',\n",
      " 'latitude': 25.02605,\n",
      " 'longitude': 121.5436,\n",
      " 'mday': '2024-06-05 10:13:20',\n",
      " 'sarea': '大安區',\n",
      " 'sareaen': 'Daan Dist.',\n",
      " 'sna': 'YouBike2.0_捷運科技大樓站',\n",
      " 'snaen': 'YouBike2.0_MRT Technology Bldg. Sta.',\n",
      " 'sno': '500101001',\n",
      " 'srcUpdateTime': '2024-06-05 10:14:23',\n",
      " 'total': 28,\n",
      " 'updateTime': '2024-06-05 10:14:52'}\n"
     ]
    }
   ],
   "source": [
    "try:\n",
    "    all_data:list[any] = download_json()\n",
    "    pprint(all_data[0])\n",
    "except Exception as error:\n",
    "    print(error)"
   ]
  },
  {
   "cell_type": "code",
   "execution_count": 66,
   "metadata": {},
   "outputs": [],
   "source": [
    "from pydantic import BaseModel,RootModel,Field\n",
    "\n",
    "class Site(BaseModel):\n",
    "    sna:str\n",
    "    sarea:str\n",
    "    mday:str\n",
    "    ar:str\n",
    "    act:str\n",
    "    updateTime:str\n",
    "    total:int\n",
    "    available_rent_bikes:int\n",
    "    latitude:float\n",
    "    longitude:float\n",
    "    available_return_bikes:int\n",
    "\n",
    "class You(RootModel):\n",
    "    root:list[Site]\n",
    "\n",
    "you:You = You.model_validate(all_data)\n",
    "\n",
    "data = you.model_dump()\n",
    "    \n"
   ]
  },
  {
   "cell_type": "code",
   "execution_count": null,
   "metadata": {},
   "outputs": [],
   "source": [
    "data"
   ]
  }
 ],
 "metadata": {
  "kernelspec": {
   "display_name": "venv1",
   "language": "python",
   "name": "python3"
  },
  "language_info": {
   "codemirror_mode": {
    "name": "ipython",
    "version": 3
   },
   "file_extension": ".py",
   "mimetype": "text/x-python",
   "name": "python",
   "nbconvert_exporter": "python",
   "pygments_lexer": "ipython3",
   "version": "3.10.14"
  }
 },
 "nbformat": 4,
 "nbformat_minor": 2
}
