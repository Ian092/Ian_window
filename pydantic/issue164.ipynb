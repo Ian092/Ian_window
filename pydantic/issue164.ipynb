{
 "cells": [
  {
   "cell_type": "code",
   "execution_count": null,
   "metadata": {},
   "outputs": [],
   "source": [
    "from pydantic import BaseModel, Field\n",
    "import json\n",
    "\n",
    "\n",
    "class Address(BaseModel):\n",
    "    street: str = Field(alias=\"street\")\n",
    "    city: str = Field(alias=\"city\")\n",
    "    zipcode: str = Field(alias=\"zipcode\")\n",
    "\n",
    "\n",
    "class Project(BaseModel):\n",
    "    name: str\n",
    "    status: str\n",
    "\n",
    "\n",
    "class User(BaseModel):\n",
    "    name: str\n",
    "    age: int\n",
    "    address: Address\n",
    "    projects: List[Project]\n",
    "\n",
    "\n",
    "with open(\"data.json\", \"r\") as f:\n",
    "    user_data = json.load(f)\n",
    "\n",
    "\n",
    "user = User(**user_data)\n",
    "\n",
    "\n",
    "print(user.name)\n",
    "print(user.age) \n",
    "print(user.address.street)\n",
    "print(user.projects[0].name)\n"
   ]
  }
 ],
 "metadata": {
  "language_info": {
   "name": "python"
  }
 },
 "nbformat": 4,
 "nbformat_minor": 2
}
