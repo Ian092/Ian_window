{
 "cells": [
  {
   "cell_type": "code",
   "execution_count": 3,
   "metadata": {},
   "outputs": [],
   "source": [
    "from dash import Dash,dcc,html,Input,Output,callback\n",
    "import pandas as pd\n",
    "import plotly.express as px\n",
    "\n",
    "df = pd.read_csv('統計表.csv')\n",
    "app = Dash(__name__)"
   ]
  },
  {
   "cell_type": "code",
   "execution_count": null,
   "metadata": {},
   "outputs": [],
   "source": [
    "import pandas as pd\n",
    "from dash import Dash, dcc, html\n",
    "import plotly.express as px\n",
    "\n",
    "# 讀取 CSV 檔案\n",
    "file_path = '統計表.csv'\n",
    "df = pd.read_csv(file_path)\n",
    "\n",
    "# 創建 Dash 應用\n",
    "app = Dash(__name__)\n",
    "\n",
    "# 繪製散點圖，這裡假設我們用「地區人口數」和「長照機構數」為 X 和 Y 軸\n",
    "fig = px.scatter(df, x=\"地區總人口數%\", y=\"長照機構數%\", title=\"地區總人口數% vs 長照機構數%\")\n",
    "\n",
    "# 設置 Dash 應用的佈局\n",
    "app.layout = html.Div(children=[\n",
    "    html.H1(children='Dash 散點圖範例'),\n",
    "\n",
    "    dcc.Graph(\n",
    "        id='example-graph',\n",
    "        figure=fig\n",
    "    )\n",
    "])\n",
    "\n",
    "# 運行應用\n",
    "if __name__ == '__main__':\n",
    "    app.run_server(debug=True)\n"
   ]
  },
  {
   "cell_type": "code",
   "execution_count": null,
   "metadata": {},
   "outputs": [],
   "source": [
    "import pandas as pd\n",
    "from dash import Dash, dcc, html\n",
    "import plotly.express as px\n",
    "\n",
    "# 讀取 CSV 檔案\n",
    "file_path = '統計表.csv'\n",
    "df = pd.read_csv(file_path)\n",
    "\n",
    "# 創建 Dash 應用\n",
    "app = Dash(__name__)\n",
    "\n",
    "# 繪製散點圖，使用顏色區分另一個變量\n",
    "fig = px.scatter(df, x=\"地區總人口數%\", y=\"長照機構數%\", color=\"醫療院所數%\", title=\"地區人口數 vs 長照機構數\")\n",
    "\n",
    "# 設置 Dash 應用的佈局\n",
    "app.layout = html.Div(children=[\n",
    "    html.H1(children='Dash 散點圖範例 - 使用顏色區分'),\n",
    "\n",
    "    dcc.Graph(\n",
    "        id='example-graph',\n",
    "        figure=fig\n",
    "    )\n",
    "])\n",
    "\n",
    "# 運行應用\n",
    "if __name__ == '__main__':\n",
    "    app.run_server(debug=True)\n"
   ]
  },
  {
   "cell_type": "code",
   "execution_count": 21,
   "metadata": {},
   "outputs": [
    {
     "data": {
      "text/html": [
       "\n",
       "        <iframe\n",
       "            width=\"100%\"\n",
       "            height=\"650\"\n",
       "            src=\"http://127.0.0.1:8050/\"\n",
       "            frameborder=\"0\"\n",
       "            allowfullscreen\n",
       "            \n",
       "        ></iframe>\n",
       "        "
      ],
      "text/plain": [
       "<IPython.lib.display.IFrame at 0x1fdcae89ad0>"
      ]
     },
     "metadata": {},
     "output_type": "display_data"
    }
   ],
   "source": [
    "import pandas as pd\n",
    "from dash import Dash, dcc, html\n",
    "import plotly.express as px\n",
    "\n",
    "# 讀取 CSV 檔案\n",
    "file_path = '統計表.csv'\n",
    "df = pd.read_csv(file_path)\n",
    "\n",
    "external_stylesheets = ['https://codepen.io/chriddyp/pen/bWLwgP.css']\n",
    "\n",
    "app = Dash(__name__, external_stylesheets=external_stylesheets)\n",
    "\n",
    "# 創建不同的圖表\n",
    "fig1 = px.scatter(df, x=\"地區總人口數%\", y=\"長照機構數%\", title=\"地區人口數 vs 長照機構數%\")\n",
    "fig2 = px.scatter(df, x=\"65歲以上長期照顧需求人數%\", y=\"長照機構數%\", title=\"65up長照需求人數 vs 長照機構數%\")\n",
    "fig3 = px.scatter(df, x=\"醫療院所數%\", y=\"長照機構數%\", title=\"醫療院所數 vs 長照機構數%\")\n",
    "\n",
    "app.layout = html.Div([\n",
    "    dcc.Tabs([\n",
    "        dcc.Tab(label='地區總人口數% vs 長照機構數%', children=[\n",
    "            dcc.Graph(figure=fig1)\n",
    "        ]),\n",
    "        dcc.Tab(label='65歲以上長期照顧需求人數% vs 長照機構數%', children=[\n",
    "            dcc.Graph(figure=fig2)\n",
    "        ]),\n",
    "        dcc.Tab(label='醫療院所數% vs 長照機構數%', children=[\n",
    "            dcc.Graph(figure=fig3)\n",
    "        ]),\n",
    "    ])\n",
    "])\n",
    "\n",
    "if __name__ == '__main__':\n",
    "    app.run(debug=True)\n"
   ]
  }
 ],
 "metadata": {
  "kernelspec": {
   "display_name": "venv2",
   "language": "python",
   "name": "python3"
  },
  "language_info": {
   "codemirror_mode": {
    "name": "ipython",
    "version": 3
   },
   "file_extension": ".py",
   "mimetype": "text/x-python",
   "name": "python",
   "nbconvert_exporter": "python",
   "pygments_lexer": "ipython3",
   "version": "3.11.9"
  }
 },
 "nbformat": 4,
 "nbformat_minor": 2
}
