{
 "cells": [
  {
   "cell_type": "code",
   "execution_count": 1,
   "metadata": {},
   "outputs": [
    {
     "data": {
      "text/html": [
       "\n",
       "        <iframe\n",
       "            width=\"100%\"\n",
       "            height=\"650\"\n",
       "            src=\"http://127.0.0.1:8050/\"\n",
       "            frameborder=\"0\"\n",
       "            allowfullscreen\n",
       "            \n",
       "        ></iframe>\n",
       "        "
      ],
      "text/plain": [
       "<IPython.lib.display.IFrame at 0x249e656a150>"
      ]
     },
     "metadata": {},
     "output_type": "display_data"
    }
   ],
   "source": [
    "from dash import Dash, dcc, html\n",
    "\n",
    "app = Dash(__name__)\n",
    "\n",
    "app.layout = html.Div([\n",
    "    dcc.Textarea(\n",
    "        id=\"textarea_id\",\n",
    "        value=\"Copy and paste here\",\n",
    "        style={\"height\": 100},\n",
    "    ),\n",
    "    dcc.Clipboard(\n",
    "        target_id=\"textarea_id\",\n",
    "        title=\"copy\",\n",
    "        style={\n",
    "            \"display\": \"inline-block\",\n",
    "            \"fontSize\": 20,\n",
    "            \"verticalAlign\": \"top\",\n",
    "        },\n",
    "    ),\n",
    "])\n",
    "\n",
    "if __name__ == \"__main__\":\n",
    "    app.run(debug=True)\n"
   ]
  },
  {
   "cell_type": "code",
   "execution_count": 2,
   "metadata": {},
   "outputs": [
    {
     "data": {
      "text/html": [
       "\n",
       "        <iframe\n",
       "            width=\"100%\"\n",
       "            height=\"650\"\n",
       "            src=\"http://127.0.0.1:8077/\"\n",
       "            frameborder=\"0\"\n",
       "            allowfullscreen\n",
       "            \n",
       "        ></iframe>\n",
       "        "
      ],
      "text/plain": [
       "<IPython.lib.display.IFrame at 0x249e73c8610>"
      ]
     },
     "metadata": {},
     "output_type": "display_data"
    }
   ],
   "source": [
    "from dash import Dash, html, dcc, Output, Input, State, callback\n",
    "from dash.exceptions import PreventUpdate\n",
    "\n",
    "# This stylesheet makes the buttons and table pretty.\n",
    "external_stylesheets = ['https://codepen.io/chriddyp/pen/bWLwgP.css']\n",
    "\n",
    "app = Dash(__name__, external_stylesheets=external_stylesheets)\n",
    "\n",
    "app.layout = html.Div([\n",
    "    # The memory store reverts to the default on every page refresh\n",
    "    dcc.Store(id='memory'),\n",
    "    # The local store will take the initial data\n",
    "    # only the first time the page is loaded\n",
    "    # and keep it until it is cleared.\n",
    "    dcc.Store(id='local', storage_type='local'),\n",
    "    # Same as the local store but will lose the data\n",
    "    # when the browser/tab closes.\n",
    "    dcc.Store(id='session', storage_type='session'),\n",
    "    html.Table([\n",
    "        html.Thead([\n",
    "            html.Tr(html.Th('Click to store in:', colSpan=\"3\")),\n",
    "            html.Tr([\n",
    "                html.Th(html.Button('memory', id='memory-button')),\n",
    "                html.Th(html.Button('localStorage', id='local-button')),\n",
    "                html.Th(html.Button('sessionStorage', id='session-button'))\n",
    "            ]),\n",
    "            html.Tr([\n",
    "                html.Th('Memory clicks'),\n",
    "                html.Th('Local clicks'),\n",
    "                html.Th('Session clicks')\n",
    "            ])\n",
    "        ]),\n",
    "        html.Tbody([\n",
    "            html.Tr([\n",
    "                html.Td(0, id='memory-clicks'),\n",
    "                html.Td(0, id='local-clicks'),\n",
    "                html.Td(0, id='session-clicks')\n",
    "            ])\n",
    "        ])\n",
    "    ])\n",
    "])\n",
    "\n",
    "# Create two callback for every store.\n",
    "for store in ('memory', 'local', 'session'):\n",
    "\n",
    "    # add a click to the appropriate store.\n",
    "    @callback(Output(store, 'data'),\n",
    "                  Input('{}-button'.format(store), 'n_clicks'),\n",
    "                  State(store, 'data'))\n",
    "    def on_click(n_clicks, data):\n",
    "        if n_clicks is None:\n",
    "            # prevent the None callbacks is important with the store component.\n",
    "            # you don't want to update the store for nothing.\n",
    "            raise PreventUpdate\n",
    "\n",
    "        # Give a default data dict with 0 clicks if there's no data.\n",
    "        data = data or {'clicks': 0}\n",
    "\n",
    "        data['clicks'] = data['clicks'] + 1\n",
    "        return data\n",
    "\n",
    "    # output the stored clicks in the table cell.\n",
    "    @callback(Output('{}-clicks'.format(store), 'children'),\n",
    "                  # Since we use the data prop in an output,\n",
    "                  # we cannot get the initial data on load with the data prop.\n",
    "                  # To counter this, you can use the modified_timestamp\n",
    "                  # as Input and the data as State.\n",
    "                  # This limitation is due to the initial None callbacks\n",
    "                  # https://github.com/plotly/dash-renderer/pull/81\n",
    "                  Input(store, 'modified_timestamp'),\n",
    "                  State(store, 'data'))\n",
    "    def on_data(ts, data):\n",
    "        if ts is None:\n",
    "            raise PreventUpdate\n",
    "\n",
    "        data = data or {}\n",
    "\n",
    "        return data.get('clicks', 0)\n",
    "\n",
    "\n",
    "if __name__ == '__main__':\n",
    "    app.run(debug=True, port=8077, threaded=True)\n"
   ]
  }
 ],
 "metadata": {
  "kernelspec": {
   "display_name": "venv2",
   "language": "python",
   "name": "python3"
  },
  "language_info": {
   "codemirror_mode": {
    "name": "ipython",
    "version": 3
   },
   "file_extension": ".py",
   "mimetype": "text/x-python",
   "name": "python",
   "nbconvert_exporter": "python",
   "pygments_lexer": "ipython3",
   "version": "3.11.9"
  }
 },
 "nbformat": 4,
 "nbformat_minor": 2
}
