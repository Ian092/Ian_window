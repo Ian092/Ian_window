{
 "cells": [
  {
   "cell_type": "code",
   "execution_count": 5,
   "metadata": {},
   "outputs": [
    {
     "name": "stdout",
     "output_type": "stream",
     "text": [
      "<class '__main__.Person'>\n",
      "p1.name=Ian\n",
      "p2.name=Sun\n"
     ]
    }
   ],
   "source": [
    "class Person():\n",
    "    def __init__(self,n:str):\n",
    "        self.name = n\n",
    "    def  __repr__ (self):\n",
    "        return f\"我是person的實體,我的名字是:{self.name}\" \n",
    "\n",
    "\n",
    "p1:Person = Person(\"Ian\")\n",
    "print (type(p1))\n",
    "print(f\"p1.name={p1.name}\")\n",
    "p1.name\n",
    "\n",
    "p2:Person = Person(\"Sun\")\n",
    "p2.name\n",
    "print(f\"p2.name={p2.name}\")\n",
    "\n"
   ]
  },
  {
   "cell_type": "code",
   "execution_count": 6,
   "metadata": {},
   "outputs": [
    {
     "name": "stdout",
     "output_type": "stream",
     "text": [
      "Sun\n",
      "Ian Sun\n"
     ]
    }
   ],
   "source": [
    "class Student(Person):\n",
    "    def __init__(self,name:str,chinese:int,english:int,math:int):\n",
    "        super().__init__(n=name)\n",
    "        self.__chinese=chinese\n",
    "        self.__english=english\n",
    "        self.__math=math\n",
    "\n",
    "    @property\n",
    "    def chinese(self):\n",
    "            return self.__chinese\n",
    "\n",
    "    @property\n",
    "    def english(self):\n",
    "            return self.__english\n",
    "\n",
    "    @property\n",
    "    def math(self):\n",
    "            return self.__math\n",
    "\n",
    "    @property\n",
    "    def scores(self):\n",
    "        return self.__chinese+self.__english+self.__math\n",
    "\n",
    "    #自訂實體的方法(method)\n",
    "    def average(self):\n",
    "        return self.scores / 3\n",
    "\n",
    "\n",
    "\n",
    "    def  __repr__ (self):\n",
    "        message= f\"我是Student的實體,我的名字是:{self.name}\\n\"\n",
    "        message += f\"國文分數:{self.chinese}\\n\"\n",
    "        message += f\"國文分數:{self.english}\\n\"\n",
    "        message += f\"國文分數:{self.math}\\n\"\n",
    "        return message\n",
    "\n",
    "\n",
    "s1:Student = Student(name=\"Sun\",chinese=89,english=72,math=94)\n",
    "print(s1.name)\n",
    "\n",
    "\n",
    "s2:Student = Student(name=\"Ian Sun\",math=65,chinese=84,english=92)\n",
    "print(s2.name)\n"
   ]
  },
  {
   "cell_type": "code",
   "execution_count": 7,
   "metadata": {},
   "outputs": [
    {
     "name": "stdout",
     "output_type": "stream",
     "text": [
      "我是person的實體,我的名字是:Ian\n",
      "我是Student的實體,我的名字是:Sun\n",
      "國文分數:89\n",
      "國文分數:72\n",
      "國文分數:94\n",
      "\n",
      "我是person的實體,我的名字是:Sun\n",
      "我是Student的實體,我的名字是:Ian Sun\n",
      "國文分數:84\n",
      "國文分數:92\n",
      "國文分數:65\n",
      "\n"
     ]
    }
   ],
   "source": [
    "print(p1)\n",
    "print(s1)\n",
    "\n",
    "print(p2)\n",
    "print(s2)\n"
   ]
  },
  {
   "cell_type": "code",
   "execution_count": 8,
   "metadata": {},
   "outputs": [
    {
     "name": "stdout",
     "output_type": "stream",
     "text": [
      "我是Student的實體,我的名字是:Sun\n",
      "國文分數:89\n",
      "國文分數:72\n",
      "國文分數:94\n",
      "\n",
      "總分:255\n",
      "平均:85.0\n"
     ]
    }
   ],
   "source": [
    "# s1\n",
    "# s1.chinese =89\n",
    "# s1.english =72\n",
    "# s1.math =100\n",
    "print(s1)\n",
    "print(f\"總分:{s1.scores}\")#property\n",
    "print(f\"平均:{s1.average()}\")#method"
   ]
  },
  {
   "cell_type": "markdown",
   "metadata": {},
   "source": []
  }
 ],
 "metadata": {
  "kernelspec": {
   "display_name": "venv1",
   "language": "python",
   "name": "python3"
  },
  "language_info": {
   "codemirror_mode": {
    "name": "ipython",
    "version": 3
   },
   "file_extension": ".py",
   "mimetype": "text/x-python",
   "name": "python",
   "nbconvert_exporter": "python",
   "pygments_lexer": "ipython3",
   "version": "3.10.14"
  }
 },
 "nbformat": 4,
 "nbformat_minor": 2
}
