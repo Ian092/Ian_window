{
 "cells": [
  {
   "cell_type": "code",
   "execution_count": 38,
   "metadata": {},
   "outputs": [
    {
     "name": "stdout",
     "output_type": "stream",
     "text": [
      "<class '__main__.Person'>\n",
      "p1.name=Ian\n",
      "p2.name=Sun\n"
     ]
    }
   ],
   "source": [
    "class Person():\n",
    "    def __init__(self,n:str):\n",
    "        self.name = n\n",
    "    def  __repr__ (self):\n",
    "        return f\"我是person的實體,我的名字是:{self.name}\" \n",
    "\n",
    "\n",
    "p1:Person = Person(\"Ian\")\n",
    "print (type(p1))\n",
    "print(f\"p1.name={p1.name}\")\n",
    "p1.name\n",
    "\n",
    "p2:Person = Person(\"Sun\")\n",
    "p2.name\n",
    "print(f\"p2.name={p2.name}\")\n",
    "\n"
   ]
  },
  {
   "cell_type": "code",
   "execution_count": 40,
   "metadata": {},
   "outputs": [
    {
     "name": "stdout",
     "output_type": "stream",
     "text": [
      "Sun\n",
      "270\n",
      "Ian Sun\n",
      "250\n"
     ]
    }
   ],
   "source": [
    "class Student(Person):\n",
    "    def __init__(self,name:str,s:int):\n",
    "        super().__init__(n=name)\n",
    "        self.scores = s\n",
    "    def  __repr__ (self):\n",
    "        return f\"我是Student的實體,我的名字是:{self.name},我的分數是:{self.scores}\"     \n",
    "\n",
    "s1:Student = Student(name=\"Sun\",s=270)\n",
    "print(s1.name)\n",
    "print(s1.scores)\n",
    "\n",
    "s2:Student = Student(name=\"Ian Sun\",s=250)\n",
    "print(s2.name)\n",
    "print(s2.scores)"
   ]
  },
  {
   "cell_type": "code",
   "execution_count": 42,
   "metadata": {},
   "outputs": [
    {
     "name": "stdout",
     "output_type": "stream",
     "text": [
      "我是person的實體,我的名字是:Ian\n",
      "我是Student的實體,我的名字是:Sun,我的分數是:270\n",
      "我是person的實體,我的名字是:Sun\n",
      "我是Student的實體,我的名字是:Ian Sun,我的分數是:250\n"
     ]
    }
   ],
   "source": [
    "print(p1)\n",
    "print(s1)\n",
    "\n",
    "print(p2)\n",
    "print(s2)\n"
   ]
  }
 ],
 "metadata": {
  "kernelspec": {
   "display_name": "venv1",
   "language": "python",
   "name": "python3"
  },
  "language_info": {
   "codemirror_mode": {
    "name": "ipython",
    "version": 3
   },
   "file_extension": ".py",
   "mimetype": "text/x-python",
   "name": "python",
   "nbconvert_exporter": "python",
   "pygments_lexer": "ipython3",
   "version": "3.10.14"
  }
 },
 "nbformat": 4,
 "nbformat_minor": 2
}
